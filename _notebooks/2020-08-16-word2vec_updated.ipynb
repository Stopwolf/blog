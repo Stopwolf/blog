{
  "nbformat": 4,
  "nbformat_minor": 0,
  "metadata": {
    "colab": {
      "name": "word2vecFromScratch.ipynb",
      "provenance": [],
      "collapsed_sections": []
    },
    "kernelspec": {
      "name": "python3",
      "display_name": "Python 3"
    }
  },
  "cells": [
    {
      "cell_type": "markdown",
      "metadata": {
        "id": "viFmcUh-0Q3A",
        "colab_type": "text"
      },
      "source": [
        "# \"Understanding Word2Vec: Code and Math\"\n",
        "> \"In this blog post, we'll get a better understanding of how Word2Vec works. Not only coding it from zero, but also understanding the math behind it. Let's dive in!\"\n",
        "\n",
        "- toc: true\n",
        "- branch: master\n",
        "- badges: true\n",
        "- comments: true\n",
        "- author: Siniša Stanivuk\n",
        "- categories: [fastpages, jupyter, nlp, paper, from scratch]\n",
        "- image: my_icons/patrick-tomasso-Oaqk7qqNh_c-unsplash.jpg"
      ]
    },
    {
      "cell_type": "markdown",
      "metadata": {
        "id": "qd0gCPqQAaME",
        "colab_type": "text"
      },
      "source": [
        "![](my_icons/patrick-tomasso-Oaqk7qqNh_c-unsplash.jpg \"Photo by Patrick Tomasso on Unsplash\")"
      ]
    },
    {
      "cell_type": "markdown",
      "metadata": {
        "id": "E4Fvmc40EJcE",
        "colab_type": "text"
      },
      "source": [
        "Text, like everything else in one way or another, can be represented with math and numbers. Words can have meaning even if they aren't in the textual form us humans are accustomed to. In order to use words to solve problems computationally, researchers had to redefine that approach. And in comes Word2Vec!\n",
        "\n",
        "Instead of representing words as boring one-hot encoded vectors using only ones and zeros, we could use Word2Vec model and represent each word by dense vectors. Each vector having multitude of features describing every word in its own way.\n",
        "\n",
        "Instead of leaving this notebook to collect dust in some folder, I wanted to share it. What makes this blog post different than other word2vec from scratch blog posts, is that I'm fully working out the math part, so you (and I) can better understand what's going on under the hood.\n",
        "\n",
        "## One-Hot Encoded Vectors\n",
        "Even though I said that one-hot encoded vectors are boring, they are still used in Word2Vec models. That's why we'll quickly brush over the topic before moving on. OHE vectors consist only of ones and zeros. The vector is mainly consisted of zeros, except for those indexes where some word $w_c$ (corresponding to the said index) is in a window of words of the target word $w_t$. Don't bother with this definition. You'll understand better from the following example.\n",
        "\n",
        "Example sentence: `I like learning everything.`\n",
        "\n",
        "Imagine a word $w_t$ was the word `I` and the window of words is equal to 2. This window is called <i>context</i>. Practically, this means we are looking two words before the word `I` and two words after it. Since `I` is the first word, we can only 'see' two words after it. In other words, we can see that the two one-hot encoded vectors corresponding to words `like` and `learning` respectively:<br><br>\n",
        "\n",
        "\n",
        "I ................ [0] [0] <br>\n",
        "like ............ [1] [0]<br>\n",
        "learning ..... [0] [1]<br>\n",
        "everything .. [0] [0]<br><br>\n",
        "\n",
        "\n",
        "Now, it's easy to grasp how inefficient this approach would be (memory-wise) if we had thousands or hundreds of thousands of words (some languages have millions) since these vectors are very sparse (they have an extremely low number of non-zero values).<br><br>\n",
        "That's where researchers stepped in and revolutionized word representation with the Word2Vec model. Word2Vec has two types of models:\n",
        "- Continuous Bag of Words model (CBOW)\n",
        "- Skip-gram model\n",
        "<br><br>\n",
        "![w2v_models.png](data:image/png;base64,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)\n",
        "<br>\n",
        "\n",
        "CBOW model is built to predict some target word $w_t$ given words in target word's window, denoted by $w_c$. For example, given words `I have __ every day.`, the model might predict words like `work` or `classes`.<br>\n",
        "\n",
        "Skip-gram on the other hand is the exact opposite of the CBOW model. Skip-gram uses the target word $w_t$ to predict the words in its context, or $w_c$. For example, given word `guitar`, the model might predict words like `electric`, `play`, `acoustic`, or `bass`.<br><br>\n",
        "The actual word representations come from matrices used in these models. Since there exist two of them, we can just take the mean of elements at the same positions and get one matrix. One of the parameters we can set up is the dimension of the final matrix. Its dimensions will be $V\\times d$, where $V$ is the number of unique words in our text, or rather the size of the <i>vocabulary</i>, and parameter $d$ represents the dimension of the vector for each word $w_i$.\n"
      ]
    },
    {
      "cell_type": "markdown",
      "metadata": {
        "id": "9G4BI9Sp0wk1",
        "colab_type": "text"
      },
      "source": [
        "## Utility Functions\n"
      ]
    },
    {
      "cell_type": "markdown",
      "metadata": {
        "id": "9Mm9AMK3kmG7",
        "colab_type": "text"
      },
      "source": [
        "Before we begin with the actual word2vec model, we'll create some utility functions for tokenization, creating one-hot encoded (or OHE for short) vectors, and so on..."
      ]
    },
    {
      "cell_type": "code",
      "metadata": {
        "id": "mo5UaRco60M1",
        "colab_type": "code",
        "colab": {}
      },
      "source": [
        "#hide\n",
        "import pandas as pd\n",
        "import numpy as np\n",
        "import re\n",
        "\n",
        "import matplotlib.pyplot as plt\n",
        "%matplotlib inline"
      ],
      "execution_count": 20,
      "outputs": []
    },
    {
      "cell_type": "markdown",
      "metadata": {
        "id": "uWaiNvFQlDDU",
        "colab_type": "text"
      },
      "source": [
        "The first utility function we're going to cover is  the`tokenize` function. This function receives some text and extracts all words from it into a list. By using <i>regular expressions</i>, we can create a pattern, which will return an array of all words from the text. \n",
        "\n",
        "> Note: that bellow provided regular expression finds only words, not numbers, and also takes words like \"let's\" and \"I'm\" as one word instead of two."
      ]
    },
    {
      "cell_type": "code",
      "metadata": {
        "id": "A8xdr9xVhq9O",
        "colab_type": "code",
        "colab": {}
      },
      "source": [
        "def tokenize(text):\n",
        "\n",
        "  pattern = re.compile(r'[A-Za-z]+[\\w^\\']*|[\\w^\\']*[A-Za-z]+[\\w^\\']*')\n",
        "\n",
        "  return pattern.findall(text.lower())"
      ],
      "execution_count": 21,
      "outputs": []
    },
    {
      "cell_type": "markdown",
      "metadata": {
        "id": "acU2UWvfmRLE",
        "colab_type": "text"
      },
      "source": [
        "`mapping` function creates a vocabulary of unique words and pairs them with numbers for easier manipulation. That's why we're using dictionaries mapping words to numbers, but also numbers to words. Since we can't get keys by the values of a dictionary, we'll need both dictionaries in the future."
      ]
    },
    {
      "cell_type": "code",
      "metadata": {
        "id": "y7jABALDsaR7",
        "colab_type": "code",
        "colab": {}
      },
      "source": [
        "def mapping(text_array):\n",
        "\n",
        "  idx_to_word = {}\n",
        "  word_to_idx = {}\n",
        "\n",
        "  i=0; j=0\n",
        "  for idx, word in enumerate(text_array):\n",
        "    if word not in idx_to_word.values():\n",
        "      idx_to_word[i] = word\n",
        "      i+=1\n",
        "      \n",
        "    \n",
        "    if word not in word_to_idx.keys():\n",
        "      word_to_idx[word] = j\n",
        "      j+=1\n",
        "      \n",
        "\n",
        "  return idx_to_word, word_to_idx"
      ],
      "execution_count": 22,
      "outputs": []
    },
    {
      "cell_type": "markdown",
      "metadata": {
        "id": "RFexg3XmnQ1Z",
        "colab_type": "text"
      },
      "source": [
        "Lastly comes the function for creating OHE vectors. We need to provide tokenized text, dictionary of words to numbers and window size, or rather the context size.<br>\n",
        "Given those, the output will be an array of pairs of OHE vectors. One pair is consisting of OHE vector for $w_t$ (center word), and OHE vectors for $w_c$, one OHE vector for every word in $w_t$'s context."
      ]
    },
    {
      "cell_type": "code",
      "metadata": {
        "id": "Jyc-GdxViOz-",
        "colab_type": "code",
        "colab": {}
      },
      "source": [
        "def one_hot_encoding(text_array, word_to_idx, window_size):\n",
        "\n",
        "  matrix = []\n",
        "\n",
        "  for idx, word in enumerate(text_array):\n",
        "    \n",
        "    center_vec = [0 for w in word_to_idx]\n",
        "    center_vec[word_to_idx[word]] = 1\n",
        "\n",
        "\n",
        "    context_vec = []\n",
        "    for i in range(-window_size, window_size+1):\n",
        "      \n",
        "      if i == 0 or idx+i < 0 or idx+i >= len(text_array) or word == text_array[idx+i]:\n",
        "        continue\n",
        "      \n",
        "      temp = [0 for w in word_to_idx]\n",
        "      temp[word_to_idx[text_array[idx+i]]] = 1 \n",
        "\n",
        "      context_vec.append(temp)\n",
        "      \n",
        "    matrix.append([center_vec, context_vec])\n",
        "    \n",
        "\n",
        "  return matrix"
      ],
      "execution_count": 23,
      "outputs": []
    },
    {
      "cell_type": "markdown",
      "metadata": {
        "id": "HGfj5WHw0m7H",
        "colab_type": "text"
      },
      "source": [
        "## Training"
      ]
    },
    {
      "cell_type": "markdown",
      "metadata": {
        "id": "4niXc8_ACk1O",
        "colab_type": "text"
      },
      "source": [
        "Since the actual final output of forward pass is the softmax function applied to vector $u$, we'll first define the softmax function as:\n",
        "$$ \\frac{exp(u_j)}{\\sum_{j'=1}^V exp(u_{j'})}, \\ for \\ each\\ u_j \\ in \\ u$$\n",
        "By using the softmax function, we transform plain numbers of our output vector $u$ into some probability distribution $p$. That way, we can easily extract words with the highest probabilities of being in a context for $w_t$."
      ]
    },
    {
      "cell_type": "code",
      "metadata": {
        "id": "Drw9fCRuCIJj",
        "colab_type": "code",
        "colab": {}
      },
      "source": [
        "def softmax(u):\n",
        "  return [np.exp(u_j) / np.sum(np.exp(u)) for u_j in u]"
      ],
      "execution_count": 24,
      "outputs": []
    },
    {
      "cell_type": "markdown",
      "metadata": {
        "id": "RKl_IiLsseiu",
        "colab_type": "text"
      },
      "source": [
        "The forward pass is very simple. It's comprised of a couple of matrix multiplications and softmax function at the end.<br><br>\n",
        "![forward_pass.PNG](data:image/png;base64,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)\n",
        "\n",
        "Above is an annotated picture from the paper, so we can better grasp the locations of each variable and why each equation is the way it is.\n",
        "\n",
        "We can imagine word $w_t$ passing through our model and through following equations:<br>\n",
        "$$ h = w_t^{T} \\times w_1$$\n",
        "$$ u = h \\times w_2$$\n",
        "and finally:\n",
        "$$ y = \\mathcal {S}oftmax(u) $$"
      ]
    },
    {
      "cell_type": "code",
      "metadata": {
        "id": "XYCTzwzP4Ayt",
        "colab_type": "code",
        "colab": {}
      },
      "source": [
        "def forward_pass(wt, w1, w2):\n",
        "\n",
        "  wt = np.array(wt)\n",
        "\n",
        "  h = np.dot(wt.T, w1)\n",
        "\n",
        "  u = np.dot(h, w2)\n",
        "  \n",
        "  return softmax(u), h, u"
      ],
      "execution_count": 25,
      "outputs": []
    },
    {
      "cell_type": "markdown",
      "metadata": {
        "id": "tM_bHC2zIrTr",
        "colab_type": "text"
      },
      "source": [
        "Let's now work our way through the loss function so we can create a function which calculates it: $$ L = -logP(w_1,..., w_C|w_t) = \\\\ -log{\\displaystyle \\prod_{c=1}^{C} \\frac{exp(u_{c,j^*_c})}{\\sum_{j'=1}^V exp(u_{j'})}} =  - \\sum_{c=1}^C log \\frac{exp(u_{j^*_c})}{\\sum_{j'=1}^V exp(u_{j'})} = \\\\-\\sum_{c=1}^C(u_{j^*_c} - log \\sum_{j'=1}^V exp(u_{j'})) = \\\\ - \\sum_{c=1}^C u_{j^*_c} + \\sum_{c=1}^C (log \\sum_{j'=1}^V exp(u_{j'})) = \\\\ - \\sum_{c=1}^C u_{j^*_c} + C log \\sum_{j'=1}^V exp(u_{j'})$$ <br>\n",
        "The loss function is calculated for every word and after each epoch. $C$ denotes the number of <i>context</i> words for some particular target word. Vector $u$ denotes the output of the forward pass, before the softmax function is applied, which further indicates that $u_{j^*_c}$ is a concrete number in that vector corresponding to the $c$-th context word. <br>\n",
        "Bellow, you can have a look at how we calculate the loss function:"
      ]
    },
    {
      "cell_type": "code",
      "metadata": {
        "id": "xh97eu6SWF7P",
        "colab_type": "code",
        "colab": {}
      },
      "source": [
        "def loss(w_c, u):\n",
        "  return -np.sum([u[word.index(1)] for word in w_c]) + len(w_c) * np.log(np.sum(np.exp(u)))"
      ],
      "execution_count": 26,
      "outputs": []
    },
    {
      "cell_type": "markdown",
      "metadata": {
        "id": "tk6ltcRP_OmV",
        "colab_type": "text"
      },
      "source": [
        "We are taking `u[word.index(1)]` because our vector `word` is a one-hot encoded vector, that is, we're taking the index of that OHE vector where its value is equal to 1 (that gives us the $j_c^*$-th index).\n",
        "\n",
        "Before we jump to backpropagation, we need to calculate the error the model makes. But why, and how do we do that? \n",
        "\n",
        "We calculate the error because the error propagates back through the model and that's ultimately how the model learns. When it comes to \"how\", we derive the loss function with respect to every word in the context.\n",
        "\n",
        "> Note: We aren't deriving $L = -logP(w_1,..., w_C|w_t)$ but rather loss for one specific word $L = -logP(w_c|w_t)$ like follows:\n"
      ]
    },
    {
      "cell_type": "markdown",
      "metadata": {
        "id": "rVlDaYtRO1gK",
        "colab_type": "text"
      },
      "source": [
        "$$ \\frac{\\partial L}{\\partial u_{c,j}} = \\frac{\\partial}{\\partial u_{c,j}} (-  u_{j_c}) + \\frac{\\partial}{\\partial u_{c,j}} log\\sum_{j'=1}^V exp(u_{j'}) = \\\\ -t_{c,j} + \\frac{1}{\\sum_{j'=1}^V exp(u_{j'})} \\frac{\\partial}{\\partial u_{c,j}} (\\sum_{j'=1}^V exp(u_{j'})) = \\\\ - t_{c,j} + \\frac{1}{\\sum_{j'=1}^V exp(u_{j'})}(0 + 0 + ...+ \\frac{\\partial}{\\partial u_{c,j}} exp(u_{c, j}) + ... + 0) = \\\\\n",
        "\\frac{exp(u_{c,j})}{\\sum_{j'=1}^V exp(u_{j'})} - t_{c,j} = y_{c,j} - t_{c,j}$$"
      ]
    },
    {
      "cell_type": "markdown",
      "metadata": {
        "id": "wir4SZeyt8GE",
        "colab_type": "text"
      },
      "source": [
        "$t_{c,j}$ is OHE vector that represents some word $c$ which has value 1 at $j$-th index; $y_{c,j}$ is $j$-th value of a softmax output of the model for a word $c$.\n",
        "You can look at this as the difference between the model's output and the expected output. \n",
        "\n",
        "Now, we sum those errors and calculate the error like so:"
      ]
    },
    {
      "cell_type": "code",
      "metadata": {
        "id": "Dfv2eqR701Fy",
        "colab_type": "code",
        "colab": {}
      },
      "source": [
        "def error(out, w_c):\n",
        "  out = np.array(out) \n",
        "  w_c = np.array(w_c)\n",
        "\n",
        "  return np.sum([np.subtract(out, w) for w in w_c], axis=0)"
      ],
      "execution_count": 27,
      "outputs": []
    },
    {
      "cell_type": "markdown",
      "metadata": {
        "id": "jBphx0FRi8ut",
        "colab_type": "text"
      },
      "source": [
        "Now that we calculated the error, we need to propagate it back through the model. \n",
        "\n",
        "Firstly, we calculate the update for $w_2$ matrix:\n",
        "$$ \\frac{\\partial L}{\\partial w_2} = \\sum_{c=1}^C \\frac{\\partial L}{\\partial u_{c,j}} \\frac{\\partial u_{c,j}}{\\partial w_2} = E \\cdot h = dw_2$$\n",
        "This is because $u = h \\times w_2$ and we already calculated the error from $\\frac{\\partial L}{\\partial u_{c,j}}$.\n",
        "\n",
        "Before we proceed to the update for $w_1$ matrix, we need to calculate the following derivative (which is similar to the previous equation):\n",
        "$$ \\frac{\\partial L}{\\partial h} = \\sum_{j=1}^V \\frac{\\partial L}{\\partial u_{c,j}} \\frac{\\partial u_{c.j}}{\\partial h} = E \\cdot w_2 = EH$$\n",
        "\n",
        "Now, we can calculate $dw_1$:\n",
        "$$ \\frac{\\partial L}{\\partial w_1} = \\frac{\\partial L}{\\partial h} \\frac{\\partial h}{\\partial w_1} = EH \\cdot w_t = dw_1$$\n",
        "This is because $h = w_t^T \\times w_1$.\n",
        "\n"
      ]
    },
    {
      "cell_type": "code",
      "metadata": {
        "id": "3Z_QRtt-PbNs",
        "colab_type": "code",
        "colab": {}
      },
      "source": [
        "def backprop(out, word, w1, w2, h):\n",
        "  err = error(out, word[1]).T\n",
        "\n",
        "  dw2 = np.outer(err, h)\n",
        "  EH = np.dot(err, w2.T)\n",
        "  dw1 = np.outer(EH, np.array(word[0]).T)\n",
        "\n",
        "  return dw1.T, dw2.T"
      ],
      "execution_count": 28,
      "outputs": []
    },
    {
      "cell_type": "markdown",
      "metadata": {
        "id": "15ctpFckAXp2",
        "colab_type": "text"
      },
      "source": [
        "The actual part where the model learns to update its weights is defined in the following equation. Mathematically, this is done as:\n",
        "$$ w_1^{new} = w_1^{old} - l_r \\nabla w_1$$\n",
        "and same for the second set of weights:\n",
        "$$ w_2^{new} = w_2^{old} - l_r \\nabla w_2$$\n",
        "\n",
        "$\\nabla$ (nabla) sign is just a sign for gradient which is why this learning process is called <i>gradient descent</i>. \n",
        "\n",
        "In our code, we can use $dw_i$ instead of $\\nabla w_i$, since they're one in the same.\n"
      ]
    },
    {
      "cell_type": "code",
      "metadata": {
        "id": "u9uKEzZlTQc5",
        "colab_type": "code",
        "colab": {}
      },
      "source": [
        "def learning(w1, w2, dw1, dw2, lr):\n",
        "  w1 = np.subtract(w1, np.multiply(lr, dw1))\n",
        "  w2 = np.subtract(w2, np.multiply(lr, dw2))\n",
        "\n",
        "  return w1, w2"
      ],
      "execution_count": 29,
      "outputs": []
    },
    {
      "cell_type": "markdown",
      "metadata": {
        "id": "-D-AG_7KvJgR",
        "colab_type": "text"
      },
      "source": [
        "Now, in the `train` method, we collect everything previously done into one function. We initialize weights with random uniform distribution ${\\mathcal {U}}(-1, 1)$. Since these numbers may be too large, we multiply them with 0.01.\n",
        "\n",
        "In every epoch, for every word, we perform forward pass, backpropagation, and then update weights and calculate the loss. `history` is set up as a way to monitor (and later plot) losses as the model goes through each epoch. This is mainly done to check if the model is learning something or not."
      ]
    },
    {
      "cell_type": "code",
      "metadata": {
        "id": "HCe5kH1fTqdq",
        "colab_type": "code",
        "colab": {}
      },
      "source": [
        "def train(words, vocab, lr, epochs, dim):\n",
        "\n",
        "  w1 = np.random.uniform(-1, 1, (len(vocab), dim)) * 0.01\n",
        "  w2 = np.random.uniform(-1, 1, (dim, len(vocab))) * 0.01\n",
        "\n",
        "  history = {}\n",
        "  for e in range(epochs):\n",
        "\n",
        "    l = 0\n",
        "\n",
        "    for word in words:\n",
        "      out, h, u = forward_pass(word[0], w1, w2)\n",
        "      dw1, dw2 = backprop(out, word, w1, w2, h)\n",
        "      w1, w2 = learning(w1, w2, dw1, dw2, lr)\n",
        "\n",
        "      l += loss(word[1], u)\n",
        "    \n",
        "    if e % 100 == 0:\n",
        "      history[e] = l\n",
        "  \n",
        "  return w1, w2, history"
      ],
      "execution_count": 30,
      "outputs": []
    },
    {
      "cell_type": "markdown",
      "metadata": {
        "id": "mP4VTrO5rgOJ",
        "colab_type": "text"
      },
      "source": [
        "## Predicting\n",
        "\n",
        "Predicting is nothing more than a forward pass through the model for some target word and then returning the most likely ones to be in its context. \n",
        "\n",
        "> Note: We can't provide a word the model wasn't trained on, no matter how similar or synonymous the word is to those words we did train our model on."
      ]
    },
    {
      "cell_type": "code",
      "metadata": {
        "id": "PzJfekEZr-RU",
        "colab_type": "code",
        "colab": {}
      },
      "source": [
        "def predict(word, w1, w2, matrix, words, indices):\n",
        "  out, _, _ = forward_pass(matrix[words[word]][0], w1, w2)\n",
        "\n",
        "  most_likely_idxs = np.array(out).argsort()[-4:][::-1]\n",
        "  return [indices[w] for w in most_likely_idxs]"
      ],
      "execution_count": 31,
      "outputs": []
    },
    {
      "cell_type": "markdown",
      "metadata": {
        "id": "blHReVzNrw1p",
        "colab_type": "text"
      },
      "source": [
        "## Going into practice\n",
        "\n",
        "Let's test our Word2Vec model and see how everything works. We'll take a random sentence as an example to train the model on.\n",
        "\n",
        "All this is done in couple of steps:\n",
        "1. Tokenize the text\n",
        "2. Map tokens to numbers\n",
        "3. Create appropriate OHE vectors\n",
        "4. Train the model"
      ]
    },
    {
      "cell_type": "code",
      "metadata": {
        "id": "v4_-yGuvsHFY",
        "colab_type": "code",
        "colab": {}
      },
      "source": [
        "text = 'I like reading The Witcher books every night, but I only have one left in the series.'\n",
        "\n",
        "tokens = tokenize(text)\n",
        "idxs, words = mapping(tokens)\n",
        "mat = one_hot_encoding(tokens, words, window_size=2)\n",
        "\n",
        "w1, w2, history = train(mat, words, lr=0.01, epochs=1000, dim=5)"
      ],
      "execution_count": 42,
      "outputs": []
    },
    {
      "cell_type": "markdown",
      "metadata": {
        "id": "GuAE3Dvf3t_i",
        "colab_type": "text"
      },
      "source": [
        "We'll plot the loss function over epochs during training to see if the model learned got better over time at predicting the context words given the target words."
      ]
    },
    {
      "cell_type": "code",
      "metadata": {
        "id": "f6TiOdYt19uJ",
        "colab_type": "code",
        "colab": {
          "base_uri": "https://localhost:8080/",
          "height": 514
        },
        "outputId": "a1ae8bdc-84d3-4a43-d74f-ae92a49a9161"
      },
      "source": [
        "plt.figure(figsize=(13, 8))\n",
        "plt.plot(list(history.keys()), list(history.values()), color='red')\n",
        "plt.xlabel('Numer of epochs')\n",
        "plt.ylabel('Loss')"
      ],
      "execution_count": 43,
      "outputs": [
        {
          "output_type": "execute_result",
          "data": {
            "text/plain": [
              "Text(0, 0.5, 'Loss')"
            ]
          },
          "metadata": {
            "tags": []
          },
          "execution_count": 43
        },
        {
          "output_type": "display_data",
          "data": {
            "image/png": "[encoded data removed]",
            "text/plain": [
              "<Figure size 936x576 with 1 Axes>"
            ]
          },
          "metadata": {
            "tags": [],
            "needs_background": "light"
          }
        }
      ]
    },
    {
      "cell_type": "markdown",
      "metadata": {
        "id": "twFmxQMI4FL9",
        "colab_type": "text"
      },
      "source": [
        "And it did! The loss was reducing at rapid speed, and then plateaued (or reached the point of no big changes in learning).\n",
        "\n",
        "We can also have a look at our embeddings, or word representations, which may be the main result of this lesson. You can think of each row as one word from our example sentence, and each column as a feature."
      ]
    },
    {
      "cell_type": "code",
      "metadata": {
        "id": "Hrf0_5C6XYpF",
        "colab_type": "code",
        "colab": {
          "base_uri": "https://localhost:8080/",
          "height": 272
        },
        "outputId": "f5915f65-0c50-44f4-e237-2b20249c38a5"
      },
      "source": [
        "#hide_input\n",
        "np.round(np.mean([w1, w2.T], axis=0), 6)"
      ],
      "execution_count": 44,
      "outputs": [
        {
          "output_type": "execute_result",
          "data": {
            "text/plain": [
              "array([[ 1.074029,  0.253881,  2.187271,  0.548666,  0.789675],\n",
              "       [ 0.345601, -0.524737,  1.340964, -0.13635 , -1.382231],\n",
              "       [ 0.111268, -0.431645,  1.635686, -0.034835, -1.808718],\n",
              "       [ 0.083543, -0.549536, -1.137488, -0.567192, -1.794241],\n",
              "       [-0.211997, -0.011153,  0.093512,  1.432832, -1.803092],\n",
              "       [-0.106028,  0.090343, -0.873363,  1.732527, -0.712766],\n",
              "       [-0.630002,  0.341228, -0.316199,  2.258342, -0.295245],\n",
              "       [ 0.165421,  0.535967,  0.481071,  1.973774,  0.299167],\n",
              "       [-0.225031,  0.785446,  0.087164,  1.648071,  1.464086],\n",
              "       [-0.049279,  0.613595,  0.566773, -0.078783,  2.056884],\n",
              "       [ 0.744961,  0.118048,  0.352719, -1.352815,  1.457448],\n",
              "       [ 0.159583,  0.221949, -0.230585, -1.720135,  1.393154],\n",
              "       [ 0.365637, -0.381176, -0.814873, -1.820212,  0.446578],\n",
              "       [ 0.261614, -0.291007, -1.186176, -1.929695, -0.018007],\n",
              "       [ 0.169888, -0.423979, -1.345857, -1.59609 , -0.925216]])"
            ]
          },
          "metadata": {
            "tags": []
          },
          "execution_count": 44
        }
      ]
    },
    {
      "cell_type": "markdown",
      "metadata": {
        "id": "zL3HLP385I0m",
        "colab_type": "text"
      },
      "source": [
        "The prediction part of the model shouldn't be forgotten either. If we predict context words of the word `drinking` for example, we'll get the following most likely context words:\n",
        "\n",
        "> Note: Example sentence was: `I like reading The Witcher books every night, but I only have one left in the series.`"
      ]
    },
    {
      "cell_type": "code",
      "metadata": {
        "id": "JYsxETJQtXX6",
        "colab_type": "code",
        "colab": {
          "base_uri": "https://localhost:8080/",
          "height": 34
        },
        "outputId": "2887200a-811e-412f-c4d6-cebbaf1e3a4f"
      },
      "source": [
        "predict('witcher', w1, w2, mat, words, idxs)"
      ],
      "execution_count": 48,
      "outputs": [
        {
          "output_type": "execute_result",
          "data": {
            "text/plain": [
              "['books', 'the', 'reading', 'every']"
            ]
          },
          "metadata": {
            "tags": []
          },
          "execution_count": 48
        }
      ]
    },
    {
      "cell_type": "markdown",
      "metadata": {
        "id": "ii7pt5c_jnpW",
        "colab_type": "text"
      },
      "source": [
        "# Conclusion\n",
        "\n",
        "Working with words was inefficient and slow. One-hot encoded vectors were an easy and quick solution but included no intuitiveness or creativity. Until Word2Vec appeared as a seemingly simple solution which was its own revolution. It changed how we observe, process, and work with words and texts in general. <br><br>\n",
        "\n",
        "***\n",
        "<br>\n",
        "\n",
        "Thank you for reading up to here!<br>\n",
        "This was mainly made as a reminder and a practice for me, but if this helped you, feel free to share or comment to let me know your thoughts!\n",
        "\n",
        "If you find any mistakes I made, notify me and I'll make the necessary changes and mention you and your help. Any and all suggestions and constructive criticism are always welcome. We're all here to learn!\n"
      ]
    },
    {
      "cell_type": "markdown",
      "metadata": {
        "id": "EhzGlU9TsHYw",
        "colab_type": "text"
      },
      "source": [
        "# References And Further Literature\n",
        "\n",
        "\n",
        "\n",
        "[1]   <a href=\"https://arxiv.org/pdf/1301.3781.pdf\"> T. Mikolov, K. Chen, G. Corrado, and J. Dean. Efficient estimation of word representations\n",
        "in vector space. ICLR Workshop, 2013.</a><br>\n",
        "[2]   <a href=\"https://arxiv.org/pdf/1310.4546.pdf\">T. Mikolov, I. Sutskever, K. Chen, G. Corrado, and J. Dean. Distributed Representations of\n",
        "Words and Phrases and their Compositionality. Accepted to NIPS 2013.</a><br>\n",
        "[3] <a href='https://arxiv.org/pdf/1411.2738.pdf'>X. Rong. word2vec Parameter Learning Explained. ArXiv 2014.</a>\n",
        "\n"
      ]
    }
  ]
}